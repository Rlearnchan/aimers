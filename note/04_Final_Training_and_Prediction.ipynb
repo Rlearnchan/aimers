{
 "cells": [
  {
   "cell_type": "code",
   "execution_count": null,
   "id": "e4142aa9",
   "metadata": {},
   "outputs": [],
   "source": [
    "import pandas as pd\n",
    "\n",
    "test = pd.read_csv('../data/test/test.csv')"
   ]
  },
  {
   "cell_type": "code",
   "execution_count": null,
   "id": "c23c1d84",
   "metadata": {},
   "outputs": [],
   "source": [
    "# 전처리"
   ]
  },
  {
   "cell_type": "code",
   "execution_count": null,
   "id": "87c17778",
   "metadata": {},
   "outputs": [],
   "source": [
    "# 학습"
   ]
  },
  {
   "cell_type": "code",
   "execution_count": null,
   "id": "247068e8",
   "metadata": {},
   "outputs": [],
   "source": [
    "# 예측"
   ]
  },
  {
   "cell_type": "code",
   "execution_count": null,
   "id": "626dc32f",
   "metadata": {},
   "outputs": [],
   "source": [
    "# 제출 포맷 맞추기\n",
    "submission = pd.read_csv('../data/sample_submission.csv')"
   ]
  },
  {
   "cell_type": "code",
   "execution_count": null,
   "id": "2688b2f1",
   "metadata": {},
   "outputs": [],
   "source": [
    "# 최종 저장\n",
    "from datetime import datetime\n",
    "submission.to_csv(f'../submission_{datetime.now().strftime(\"%Y%m%d_%H%M%S\")}.csv', index=False)"
   ]
  }
 ],
 "metadata": {
  "language_info": {
   "name": "python"
  }
 },
 "nbformat": 4,
 "nbformat_minor": 5
}
