{
 "cells": [
  {
   "cell_type": "code",
   "execution_count": 1,
   "id": "21a5d0d8",
   "metadata": {},
   "outputs": [],
   "source": [
    "import pandas as pd\n",
    "\n",
    "train = pd.read_csv('../data/train/train.csv')\n",
    "venue_item = pd.read_csv('../data/train/venue_item.csv')"
   ]
  },
  {
   "cell_type": "code",
   "execution_count": 2,
   "id": "b9bdc33e",
   "metadata": {},
   "outputs": [],
   "source": [
    "# 주요 하이퍼파라미터\n",
    "LOOKBACK, PREDICT = 28, 7 # 고정 (대회 규칙)\n",
    "seed = 42\n",
    "\n",
    "# 디바이스 설정\n",
    "import torch\n",
    "DEVICE = torch.device('cuda' if torch.cuda.is_available() else 'cpu')"
   ]
  },
  {
   "cell_type": "markdown",
   "id": "2d65913d",
   "metadata": {},
   "source": [
    "## Preprocess"
   ]
  },
  {
   "cell_type": "code",
   "execution_count": 3,
   "id": "afa22502",
   "metadata": {},
   "outputs": [],
   "source": [
    "# 음수 처리\n",
    "train['매출수량'] = train['매출수량'].clip(lower=0)"
   ]
  },
  {
   "cell_type": "code",
   "execution_count": 4,
   "id": "dda21179",
   "metadata": {},
   "outputs": [],
   "source": [
    "# 업장, 메뉴 분리\n",
    "sp = train[\"영업장명_메뉴명\"].str.split(\"_\", n=1, expand=True)\n",
    "train[\"venue\"] = sp[0]; train[\"item\"] = sp[1]"
   ]
  },
  {
   "cell_type": "code",
   "execution_count": 5,
   "id": "ae3ee70c",
   "metadata": {},
   "outputs": [],
   "source": [
    "# 날짜 형식 변환\n",
    "train[\"영업일자\"] = pd.to_datetime(train[\"영업일자\"])\n",
    "\n",
    "# 평일(월화수목)\n",
    "train[\"is_weekday\"] = train[\"영업일자\"].dt.weekday < 4\n",
    "\n",
    "# 고정일 공휴일(음력/대체공휴일 제외)\n",
    "_fixed_mmdd = {\"01-01\",\"03-01\",\"05-05\",\"06-06\",\"08-15\",\"10-03\",\"10-09\",\"12-25\"}\n",
    "train[\"is_fixed_holiday\"] = train[\"영업일자\"].dt.strftime(\"%m-%d\").isin(_fixed_mmdd)"
   ]
  },
  {
   "cell_type": "code",
   "execution_count": 6,
   "id": "9dafd59a",
   "metadata": {},
   "outputs": [],
   "source": [
    "# 카테고리, 특성 추가\n",
    "train = train.merge(venue_item, left_on=['venue', 'item'], \n",
    "                   right_on=['venue', 'item'], how='left')\n",
    "\n",
    "# 시간 특성 추가\n",
    "train['year'] = train['영업일자'].dt.year\n",
    "train['month'] = train['영업일자'].dt.month\n",
    "train['day'] = train['영업일자'].dt.day\n",
    "train['dayofweek'] = train['영업일자'].dt.dayofweek\n",
    "train['quarter'] = train['영업일자'].dt.quarter\n",
    "train['week_of_year'] = train['영업일자'].dt.isocalendar().week\n",
    "\n",
    "# 계절 특성\n",
    "train['season'] = train['month'].map({12:0, 1:0, 2:0,  # 겨울\n",
    "                                     3:1, 4:1, 5:1,   # 봄  \n",
    "                                     6:2, 7:2, 8:2,   # 여름\n",
    "                                     9:3, 10:3, 11:3}) # 가을"
   ]
  },
  {
   "cell_type": "markdown",
   "id": "b5171063",
   "metadata": {},
   "source": [
    "## LightGBM"
   ]
  },
  {
   "cell_type": "code",
   "execution_count": null,
   "id": "8b009f0f",
   "metadata": {},
   "outputs": [],
   "source": []
  },
  {
   "cell_type": "markdown",
   "id": "acd1592d",
   "metadata": {},
   "source": [
    "## CatBoost"
   ]
  },
  {
   "cell_type": "code",
   "execution_count": null,
   "id": "008a6749",
   "metadata": {},
   "outputs": [],
   "source": []
  },
  {
   "cell_type": "markdown",
   "id": "94212a72",
   "metadata": {},
   "source": [
    "## GRU"
   ]
  },
  {
   "cell_type": "code",
   "execution_count": null,
   "id": "6c472843",
   "metadata": {},
   "outputs": [],
   "source": []
  },
  {
   "cell_type": "markdown",
   "id": "6fd63e40",
   "metadata": {},
   "source": [
    "## Validation"
   ]
  },
  {
   "cell_type": "code",
   "execution_count": null,
   "id": "b6f0422b",
   "metadata": {},
   "outputs": [],
   "source": []
  }
 ],
 "metadata": {
  "kernelspec": {
   "display_name": "py310-aimers",
   "language": "python",
   "name": "python3"
  },
  "language_info": {
   "codemirror_mode": {
    "name": "ipython",
    "version": 3
   },
   "file_extension": ".py",
   "mimetype": "text/x-python",
   "name": "python",
   "nbconvert_exporter": "python",
   "pygments_lexer": "ipython3",
   "version": "3.10.18"
  }
 },
 "nbformat": 4,
 "nbformat_minor": 5
}
