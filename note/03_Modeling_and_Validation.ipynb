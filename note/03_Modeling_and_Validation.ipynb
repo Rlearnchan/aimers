{
 "cells": [
  {
   "cell_type": "code",
   "execution_count": 28,
   "id": "21a5d0d8",
   "metadata": {},
   "outputs": [],
   "source": [
    "import pandas as pd\n",
    "\n",
    "train = pd.read_csv('../data/train/train.csv')\n",
    "venue_item = pd.read_csv('../data/train/venue_item.csv')"
   ]
  },
  {
   "cell_type": "code",
   "execution_count": null,
   "id": "b9bdc33e",
   "metadata": {},
   "outputs": [],
   "source": [
    "# 주요 하이퍼파라미터\n",
    "LOOKBACK, PREDICT = 28, 7 # 고정 (대회 규칙)\n",
    "seed = 42\n",
    "\n",
    "# 디바이스 설정\n",
    "import torch\n",
    "DEVICE = torch.device('cuda' if torch.cuda.is_available() else 'cpu')"
   ]
  },
  {
   "cell_type": "code",
   "execution_count": null,
   "id": "f827985f",
   "metadata": {},
   "outputs": [],
   "source": [
    "# Custom Metric\n",
    "# 식음업장별 가중치가 있는 SMAPE (담하, 미라시아는 다른 업장보다 높음)\n",
    "\n"
   ]
  },
  {
   "cell_type": "markdown",
   "id": "2d65913d",
   "metadata": {},
   "source": [
    "## Preprocess"
   ]
  },
  {
   "cell_type": "code",
   "execution_count": 29,
   "id": "afa22502",
   "metadata": {},
   "outputs": [],
   "source": [
    "# 음수 처리\n",
    "train['매출수량'] = train['매출수량'].clip(lower=0)"
   ]
  },
  {
   "cell_type": "code",
   "execution_count": 30,
   "id": "dda21179",
   "metadata": {},
   "outputs": [],
   "source": [
    "# 업장, 메뉴 분리\n",
    "sp = train[\"영업장명_메뉴명\"].str.split(\"_\", n=1, expand=True)\n",
    "train[\"venue\"] = sp[0]; train[\"item\"] = sp[1]"
   ]
  },
  {
   "cell_type": "code",
   "execution_count": 31,
   "id": "ae3ee70c",
   "metadata": {},
   "outputs": [],
   "source": [
    "# 날짜 형식 변환\n",
    "train[\"영업일자\"] = pd.to_datetime(train[\"영업일자\"])\n",
    "\n",
    "# 평일(월화수목)\n",
    "train[\"is_weekday\"] = train[\"영업일자\"].dt.weekday < 4\n",
    "\n",
    "# 고정일 공휴일(음력/대체공휴일 제외)\n",
    "_fixed_mmdd = {\"01-01\",\"03-01\",\"05-05\",\"06-06\",\"08-15\",\"10-03\",\"10-09\",\"12-25\"}\n",
    "train[\"is_fixed_holiday\"] = train[\"영업일자\"].dt.strftime(\"%m-%d\").isin(_fixed_mmdd)"
   ]
  },
  {
   "cell_type": "code",
   "execution_count": 32,
   "id": "1bbab152",
   "metadata": {},
   "outputs": [
    {
     "data": {
      "text/html": [
       "<div>\n",
       "<style scoped>\n",
       "    .dataframe tbody tr th:only-of-type {\n",
       "        vertical-align: middle;\n",
       "    }\n",
       "\n",
       "    .dataframe tbody tr th {\n",
       "        vertical-align: top;\n",
       "    }\n",
       "\n",
       "    .dataframe thead th {\n",
       "        text-align: right;\n",
       "    }\n",
       "</style>\n",
       "<table border=\"1\" class=\"dataframe\">\n",
       "  <thead>\n",
       "    <tr style=\"text-align: right;\">\n",
       "      <th></th>\n",
       "      <th>영업일자</th>\n",
       "      <th>영업장명_메뉴명</th>\n",
       "      <th>매출수량</th>\n",
       "      <th>venue</th>\n",
       "      <th>item</th>\n",
       "      <th>is_weekday</th>\n",
       "      <th>is_fixed_holiday</th>\n",
       "    </tr>\n",
       "  </thead>\n",
       "  <tbody>\n",
       "    <tr>\n",
       "      <th>0</th>\n",
       "      <td>2023-01-01</td>\n",
       "      <td>느티나무 셀프BBQ_1인 수저세트</td>\n",
       "      <td>0</td>\n",
       "      <td>느티나무 셀프BBQ</td>\n",
       "      <td>1인 수저세트</td>\n",
       "      <td>False</td>\n",
       "      <td>True</td>\n",
       "    </tr>\n",
       "    <tr>\n",
       "      <th>1</th>\n",
       "      <td>2023-01-02</td>\n",
       "      <td>느티나무 셀프BBQ_1인 수저세트</td>\n",
       "      <td>0</td>\n",
       "      <td>느티나무 셀프BBQ</td>\n",
       "      <td>1인 수저세트</td>\n",
       "      <td>True</td>\n",
       "      <td>False</td>\n",
       "    </tr>\n",
       "    <tr>\n",
       "      <th>2</th>\n",
       "      <td>2023-01-03</td>\n",
       "      <td>느티나무 셀프BBQ_1인 수저세트</td>\n",
       "      <td>0</td>\n",
       "      <td>느티나무 셀프BBQ</td>\n",
       "      <td>1인 수저세트</td>\n",
       "      <td>True</td>\n",
       "      <td>False</td>\n",
       "    </tr>\n",
       "    <tr>\n",
       "      <th>3</th>\n",
       "      <td>2023-01-04</td>\n",
       "      <td>느티나무 셀프BBQ_1인 수저세트</td>\n",
       "      <td>0</td>\n",
       "      <td>느티나무 셀프BBQ</td>\n",
       "      <td>1인 수저세트</td>\n",
       "      <td>True</td>\n",
       "      <td>False</td>\n",
       "    </tr>\n",
       "    <tr>\n",
       "      <th>4</th>\n",
       "      <td>2023-01-05</td>\n",
       "      <td>느티나무 셀프BBQ_1인 수저세트</td>\n",
       "      <td>0</td>\n",
       "      <td>느티나무 셀프BBQ</td>\n",
       "      <td>1인 수저세트</td>\n",
       "      <td>True</td>\n",
       "      <td>False</td>\n",
       "    </tr>\n",
       "    <tr>\n",
       "      <th>...</th>\n",
       "      <td>...</td>\n",
       "      <td>...</td>\n",
       "      <td>...</td>\n",
       "      <td>...</td>\n",
       "      <td>...</td>\n",
       "      <td>...</td>\n",
       "      <td>...</td>\n",
       "    </tr>\n",
       "    <tr>\n",
       "      <th>102671</th>\n",
       "      <td>2024-06-11</td>\n",
       "      <td>화담숲카페_현미뻥스크림</td>\n",
       "      <td>12</td>\n",
       "      <td>화담숲카페</td>\n",
       "      <td>현미뻥스크림</td>\n",
       "      <td>True</td>\n",
       "      <td>False</td>\n",
       "    </tr>\n",
       "    <tr>\n",
       "      <th>102672</th>\n",
       "      <td>2024-06-12</td>\n",
       "      <td>화담숲카페_현미뻥스크림</td>\n",
       "      <td>10</td>\n",
       "      <td>화담숲카페</td>\n",
       "      <td>현미뻥스크림</td>\n",
       "      <td>True</td>\n",
       "      <td>False</td>\n",
       "    </tr>\n",
       "    <tr>\n",
       "      <th>102673</th>\n",
       "      <td>2024-06-13</td>\n",
       "      <td>화담숲카페_현미뻥스크림</td>\n",
       "      <td>14</td>\n",
       "      <td>화담숲카페</td>\n",
       "      <td>현미뻥스크림</td>\n",
       "      <td>True</td>\n",
       "      <td>False</td>\n",
       "    </tr>\n",
       "    <tr>\n",
       "      <th>102674</th>\n",
       "      <td>2024-06-14</td>\n",
       "      <td>화담숲카페_현미뻥스크림</td>\n",
       "      <td>12</td>\n",
       "      <td>화담숲카페</td>\n",
       "      <td>현미뻥스크림</td>\n",
       "      <td>False</td>\n",
       "      <td>False</td>\n",
       "    </tr>\n",
       "    <tr>\n",
       "      <th>102675</th>\n",
       "      <td>2024-06-15</td>\n",
       "      <td>화담숲카페_현미뻥스크림</td>\n",
       "      <td>60</td>\n",
       "      <td>화담숲카페</td>\n",
       "      <td>현미뻥스크림</td>\n",
       "      <td>False</td>\n",
       "      <td>False</td>\n",
       "    </tr>\n",
       "  </tbody>\n",
       "</table>\n",
       "<p>102676 rows × 7 columns</p>\n",
       "</div>"
      ],
      "text/plain": [
       "             영업일자            영업장명_메뉴명  매출수량       venue     item  is_weekday  \\\n",
       "0      2023-01-01  느티나무 셀프BBQ_1인 수저세트     0  느티나무 셀프BBQ  1인 수저세트       False   \n",
       "1      2023-01-02  느티나무 셀프BBQ_1인 수저세트     0  느티나무 셀프BBQ  1인 수저세트        True   \n",
       "2      2023-01-03  느티나무 셀프BBQ_1인 수저세트     0  느티나무 셀프BBQ  1인 수저세트        True   \n",
       "3      2023-01-04  느티나무 셀프BBQ_1인 수저세트     0  느티나무 셀프BBQ  1인 수저세트        True   \n",
       "4      2023-01-05  느티나무 셀프BBQ_1인 수저세트     0  느티나무 셀프BBQ  1인 수저세트        True   \n",
       "...           ...                 ...   ...         ...      ...         ...   \n",
       "102671 2024-06-11        화담숲카페_현미뻥스크림    12       화담숲카페   현미뻥스크림        True   \n",
       "102672 2024-06-12        화담숲카페_현미뻥스크림    10       화담숲카페   현미뻥스크림        True   \n",
       "102673 2024-06-13        화담숲카페_현미뻥스크림    14       화담숲카페   현미뻥스크림        True   \n",
       "102674 2024-06-14        화담숲카페_현미뻥스크림    12       화담숲카페   현미뻥스크림       False   \n",
       "102675 2024-06-15        화담숲카페_현미뻥스크림    60       화담숲카페   현미뻥스크림       False   \n",
       "\n",
       "        is_fixed_holiday  \n",
       "0                   True  \n",
       "1                  False  \n",
       "2                  False  \n",
       "3                  False  \n",
       "4                  False  \n",
       "...                  ...  \n",
       "102671             False  \n",
       "102672             False  \n",
       "102673             False  \n",
       "102674             False  \n",
       "102675             False  \n",
       "\n",
       "[102676 rows x 7 columns]"
      ]
     },
     "execution_count": 32,
     "metadata": {},
     "output_type": "execute_result"
    }
   ],
   "source": [
    "train"
   ]
  },
  {
   "cell_type": "code",
   "execution_count": 26,
   "id": "9dafd59a",
   "metadata": {},
   "outputs": [],
   "source": [
    "# 카테고리, 특성 추가"
   ]
  },
  {
   "cell_type": "code",
   "execution_count": null,
   "id": "5a17662c",
   "metadata": {},
   "outputs": [],
   "source": [
    "# Sliding Window (공통)"
   ]
  },
  {
   "cell_type": "code",
   "execution_count": null,
   "id": "9cdddc9d",
   "metadata": {},
   "outputs": [],
   "source": [
    "# from sklearn.model_selection import train_test_split\n",
    "# from sklearn.preprocessing import StandardScaler, LabelEncoder\n",
    "\n",
    "# # 훈련/검증 데이터 분리\n",
    "# train_data, val_data = train_test_split(train, test_size=0.2, random_state=seed)\n",
    "\n",
    "# # 업장, 메뉴, 카테고리 인코딩\n",
    "# encoder = LabelEncoder()\n",
    "\n",
    "# # 매출수량 정규화\n",
    "# scaler = StandardScaler()"
   ]
  },
  {
   "cell_type": "markdown",
   "id": "b5171063",
   "metadata": {},
   "source": [
    "## LightGBM"
   ]
  },
  {
   "cell_type": "code",
   "execution_count": null,
   "id": "24aeb6d1",
   "metadata": {},
   "outputs": [],
   "source": [
    "# 하이퍼파라미터"
   ]
  },
  {
   "cell_type": "code",
   "execution_count": null,
   "id": "13fe2aef",
   "metadata": {},
   "outputs": [],
   "source": [
    "# 모델 정의"
   ]
  },
  {
   "cell_type": "code",
   "execution_count": null,
   "id": "072633e8",
   "metadata": {},
   "outputs": [],
   "source": [
    "# 훈련"
   ]
  },
  {
   "cell_type": "markdown",
   "id": "acd1592d",
   "metadata": {},
   "source": [
    "## CatBoost"
   ]
  },
  {
   "cell_type": "code",
   "execution_count": null,
   "id": "0a9c202b",
   "metadata": {},
   "outputs": [],
   "source": [
    "# 하이퍼파라미터"
   ]
  },
  {
   "cell_type": "code",
   "execution_count": null,
   "id": "cb7c336c",
   "metadata": {},
   "outputs": [],
   "source": [
    "# 모델 정의"
   ]
  },
  {
   "cell_type": "code",
   "execution_count": null,
   "id": "656b7cc1",
   "metadata": {},
   "outputs": [],
   "source": [
    "# 훈련"
   ]
  },
  {
   "cell_type": "markdown",
   "id": "94212a72",
   "metadata": {},
   "source": [
    "## GRU"
   ]
  },
  {
   "cell_type": "code",
   "execution_count": null,
   "id": "9f96d215",
   "metadata": {},
   "outputs": [],
   "source": [
    "# 하이퍼파라미터"
   ]
  },
  {
   "cell_type": "code",
   "execution_count": null,
   "id": "fb65245a",
   "metadata": {},
   "outputs": [],
   "source": [
    "# 모델 정의"
   ]
  },
  {
   "cell_type": "code",
   "execution_count": null,
   "id": "cf700e3d",
   "metadata": {},
   "outputs": [],
   "source": [
    "# 훈련"
   ]
  },
  {
   "cell_type": "markdown",
   "id": "6fd63e40",
   "metadata": {},
   "source": [
    "## Validation"
   ]
  },
  {
   "cell_type": "code",
   "execution_count": null,
   "id": "ed656334",
   "metadata": {},
   "outputs": [],
   "source": [
    "# 검증"
   ]
  },
  {
   "cell_type": "code",
   "execution_count": null,
   "id": "b16e5387",
   "metadata": {},
   "outputs": [],
   "source": [
    "# 모델 성능 비교"
   ]
  },
  {
   "cell_type": "code",
   "execution_count": null,
   "id": "f43884c1",
   "metadata": {},
   "outputs": [],
   "source": [
    "# 모델 선택 (저장)"
   ]
  }
 ],
 "metadata": {
  "kernelspec": {
   "display_name": "py310-aimers",
   "language": "python",
   "name": "python3"
  },
  "language_info": {
   "codemirror_mode": {
    "name": "ipython",
    "version": 3
   },
   "file_extension": ".py",
   "mimetype": "text/x-python",
   "name": "python",
   "nbconvert_exporter": "python",
   "pygments_lexer": "ipython3",
   "version": "3.10.18"
  }
 },
 "nbformat": 4,
 "nbformat_minor": 5
}
